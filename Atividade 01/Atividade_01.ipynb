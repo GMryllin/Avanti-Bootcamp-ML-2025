{
  "nbformat": 4,
  "nbformat_minor": 0,
  "metadata": {
    "colab": {
      "provenance": []
    },
    "kernelspec": {
      "name": "python3",
      "display_name": "Python 3"
    },
    "language_info": {
      "name": "python"
    }
  },
  "cells": [
    {
      "cell_type": "markdown",
      "source": [
        "# Atividade 01 (ATIV-01)"
      ],
      "metadata": {
        "id": "hyVv6VZOcLZ-"
      }
    },
    {
      "cell_type": "markdown",
      "source": [
        "Nome: Melryllin Genniani de Oliveira Sousa."
      ],
      "metadata": {
        "id": "0k-dA3bLh5Jl"
      }
    },
    {
      "cell_type": "markdown",
      "source": [
        "## 1. Explique, com suas palavras, o que é machine learning?"
      ],
      "metadata": {
        "id": "1EdboeCpcPH-"
      }
    },
    {
      "cell_type": "markdown",
      "source": [
        "> Machine Learning é o processo de encontrar uma função (reta, curva, rede neural etc.) que melhor representa o padrão médio dos meus dados, de forma que eu possa usá-la para prever resultados em novos dados."
      ],
      "metadata": {
        "id": "vfTw9OIPcwre"
      }
    },
    {
      "cell_type": "markdown",
      "source": [
        "## 2. Explique o conceito de conjunto de treinamento, conjunto de validação e conjunto de teste em machine learning."
      ],
      "metadata": {
        "id": "jb5JO6iXcbW_"
      }
    },
    {
      "cell_type": "markdown",
      "source": [
        "> Conjunto de Treinamento: É o conjunto de dados usado para treinar o modelo, ou seja, é nele que o modelo aprende os padrões.\n",
        "\n",
        "> Conjunto de Validação: É usado durante o treinamento para ajustar o modelo e evitar que ele apenas memorize os dados que é um problema que chamamos de overfiting.\n",
        "\n",
        "> Conjunto de Teste: Serve para avaliar como o modelo se comporta com dados novos, que ele nunca viu antes."
      ],
      "metadata": {
        "id": "EkyOP0AScxo2"
      }
    },
    {
      "cell_type": "markdown",
      "source": [
        "\n",
        "## 3. Explique como você lidaria com dados ausentes em um conjunto de dados de treinamento.\n",
        "\n"
      ],
      "metadata": {
        "id": "6RCaLSBFcrH_"
      }
    },
    {
      "cell_type": "markdown",
      "source": [
        "> Depende muito do tipo de problema. Por exemplo, em um projeto em que eu precisava prever parâmetros da rede da universidade, havia muitos dados ausentes em uma das variáveis. Antes de descartá-los, analisei se havia correlação entre essa variável e as demais que eu tinha disponíveis. Como não encontrei nenhuma relação útil e o modelo não se beneficiava dessa variável, decidi prosseguir ignorando-a. Eu não aplico ML frequêntemente apesar então pode existir outros cenários onde outras abordagens podem ser mais interessantes, por exemplo eu posso pegar a moda entre os valores que estão faltando para preencher esses buracos de dados artificialmente ou usar interpolação e coisas nessa linha."
      ],
      "metadata": {
        "id": "sExStFh5cx84"
      }
    },
    {
      "cell_type": "markdown",
      "source": [
        "## 4. O que é uma matriz de confusão e como ela é usada para avaliar o desempenho de um modelo preditivo?\n",
        "\n"
      ],
      "metadata": {
        "id": "zjXP40tfcswG"
      }
    },
    {
      "cell_type": "markdown",
      "source": [
        "> A matriz de confusão é uma tabela que compara os valores previstos por um modelo com os valores reais em um problema de classificação.\n",
        "\n",
        "> Ela mostra quantas vezes o modelo acertou ou errou, dividindo os erros por tipo como falso positivo, falso negativo etc."
      ],
      "metadata": {
        "id": "7XayBydscyPX"
      }
    },
    {
      "cell_type": "markdown",
      "source": [
        "## 5. Em quais áreas (tais como construção civil, agricultura, saúde, manufatura, entre outras) você acha mais interessante aplicar algoritmos de machine learning?"
      ],
      "metadata": {
        "id": "Y2Ag8fFucu2_"
      }
    },
    {
      "cell_type": "markdown",
      "source": [
        "> Uma possível aplicação de Machine Learning que me interessa é na estimação de ângulos de chegada (DOA) em sistemas de antenas. Em vez de utilizar apenas métodos tradicionais como MUSIC,Root-MUSIC ou ESPRIT, posso aplicar redes neurais convolucionais para aprender diretamente o mapeamento entre sinais recebidos e os ângulos incidentes, o que pode aumentar a robustez em ambientes com multipercurso e baixo SNR.\n",
        "\n",
        "> Também vejo potencial em aplicar em problemas de *matrix completion* cujo objetivo é de preencher uma matriz com dados ausentes. É comum em sistemas de recomendação tipo Netflix, mas também aparece na minha área de telecom, por exemplo em comunicações MIMO massivas, a matriz de canal pode estar incompleta por limitação de amostragem. Nesses casos, eu *aaaacho* que Machine Learning pode completar dados ausentes de forma mais eficiente do que métodos de interpolação tradicionais mas isso é algo que ao longo do curso eu vou aprender para aplicar e investigar isso melhor.\n"
      ],
      "metadata": {
        "id": "LOYgGhvecynP"
      }
    }
  ]
}
